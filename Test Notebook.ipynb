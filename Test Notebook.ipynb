{
 "cells": [
  {
   "cell_type": "code",
   "execution_count": 3,
   "id": "f54ead66-e88d-4c23-8e8e-9c34a8bad1ed",
   "metadata": {},
   "outputs": [
    {
     "name": "stdout",
     "output_type": "stream",
     "text": [
      "hello crule world\n"
     ]
    }
   ],
   "source": [
    "print(\"hello crule world\")"
   ]
  },
  {
   "cell_type": "code",
   "execution_count": null,
   "id": "878ca136-9552-4102-9c83-21e073fbb8a6",
   "metadata": {},
   "outputs": [],
   "source": [] sdfsdgdfg
  }
 ],
 "metadata": {
  "kernelspec": {
   "display_name": "Python 3 (ipykernel)",
   "language": "python",
   "name": "python3"
  },
  "language_info": {
   "codemirror_mode": {
    "name": "ipython",
    "version": 3
   },
   "file_extension": ".py",
   "mimetype": "text/x-python",
   "name": "python",
   "nbconvert_exporter": "python",
   "pygments_lexer": "ipython3",
   "version": "3.12.4"
  }
 },
 "nbformat": 4,
 "nbformat_minor": 5
}
