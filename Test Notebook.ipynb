{
 "cells": [
  {
   "cell_type": "code",
   "execution_count": 3,
   "id": "f54ead66-e88d-4c23-8e8e-9c34a8bad1ed",
   "metadata": {},
   "outputs": [
    {
     "name": "stdout",
     "output_type": "stream",
     "text": [
      "hello crule world\n"
     ]
    }
   ],
   "source": [
    "print(\"hello crule world\")"
   ]
  },
  {
   "cell_type": "markdown",
   "id": "f3c2ec8c-3f71-4330-96e5-80ee107f6786",
   "metadata": {},
   "source": [
    "THis is a line written in jupyterHub"
   ]
  }
 ],
 "metadata": {
  "kernelspec": {
   "display_name": "Python 3 (ipykernel)",
   "language": "python",
   "name": "python3"
  },
  "language_info": {
   "codemirror_mode": {
    "name": "ipython",
    "version": 3
   },
   "file_extension": ".py",
   "mimetype": "text/x-python",
   "name": "python",
   "nbconvert_exporter": "python",
   "pygments_lexer": "ipython3",
   "version": "3.12.4"
  }
 },
 "nbformat": 4,
 "nbformat_minor": 5
}
